{
 "cells": [
  {
   "cell_type": "markdown",
   "metadata": {},
   "source": [
    "# Ciencia de datos y visualización de la información para investigación y docencia\n",
    "\n",
    "**Autor:** Oscar Hernández Terán                                   \n",
    "**Fecha:** Octubre 9, 2024"
   ]
  },
  {
   "cell_type": "markdown",
   "metadata": {},
   "source": [
    "## Contenido del Notebook \n",
    "\n",
    "1. Importaciones y librerías\n",
    "2. Carga de datos\n",
    "3. Visualización de datos "
   ]
  },
  {
   "cell_type": "markdown",
   "metadata": {},
   "source": [
    "### 1. Importaciones y librerias "
   ]
  },
  {
   "cell_type": "code",
   "execution_count": null,
   "metadata": {},
   "outputs": [],
   "source": [
    "!pip install pyproj"
   ]
  },
  {
   "cell_type": "code",
   "execution_count": 23,
   "metadata": {},
   "outputs": [],
   "source": [
    "# Procesamiento de datos\n",
    "import numpy as np\n",
    "import pandas as pd\n",
    "\n",
    "# Lectura de datos\n",
    "import glob\n",
    "import os\n",
    "\n",
    "# Visualización de datos\n",
    "import matplotlib.pyplot as plt\n",
    "import seaborn\n",
    "import folium\n",
    "from pyproj import Proj, transform\n",
    "\n",
    "# Bibliotecas genéricas \n",
    "import json"
   ]
  },
  {
   "cell_type": "markdown",
   "metadata": {},
   "source": [
    "### 2. Carga de datos"
   ]
  },
  {
   "cell_type": "code",
   "execution_count": null,
   "metadata": {},
   "outputs": [],
   "source": [
    "catalogo_datos = pd.read_excel('../data/raw/Catalogo_de_datos_CO2_Jacome_Paz_2020.xlsx')\n",
    "catalogo_datos.head()"
   ]
  },
  {
   "cell_type": "code",
   "execution_count": null,
   "metadata": {},
   "outputs": [],
   "source": [
    "df_alcaparrosa = pd.read_csv('../data/raw/P_alcaparrosa.csv')\n",
    "#df_alcaparrosa.columns = ['UTM_X', 'UTM_Y', 'CO2', 'zona']\n",
    "df_alcaparrosa.head()"
   ]
  },
  {
   "cell_type": "markdown",
   "metadata": {},
   "source": [
    "### 3. Visualización de datos "
   ]
  },
  {
   "cell_type": "code",
   "execution_count": null,
   "metadata": {},
   "outputs": [],
   "source": [
    "# Definir el sistema UTM (ajusta la zona según tu ubicación)\n",
    "utm_proj = Proj(proj='utm', zone=14, ellps='WGS84')\n",
    "\n",
    "# Convertir coordenadas UTM a Latitud/Longitud\n",
    "df_alcaparrosa['Latitud'], df_alcaparrosa['Longitud'] = transform(utm_proj, Proj(init='epsg:4326'), df_alcaparrosa['UTM_X'], df_alcaparrosa['UTM_Y'])"
   ]
  },
  {
   "cell_type": "code",
   "execution_count": null,
   "metadata": {},
   "outputs": [],
   "source": [
    "df_alcaparrosa.head()"
   ]
  },
  {
   "cell_type": "code",
   "execution_count": 6,
   "metadata": {},
   "outputs": [],
   "source": [
    "# Crear un mapa centrado en las coordenadas promedio\n",
    "m = folium.Map(location=[df_alcaparrosa['Latitud'].mean(), df_alcaparrosa['Longitud'].mean()], zoom_start=14)\n",
    "\n",
    "# Añadir marcadores para cada fila en el DataFrame\n",
    "for _, row in df_alcaparrosa.iterrows():\n",
    "    folium.Marker(\n",
    "        location=[row['Latitud'], row['Longitud']],\n",
    "        popup=f\"Nombre: {row['zona']}<br>CO2: {row['CO2']} gm-2-d-1\",\n",
    "        icon=folium.Icon(color='green')\n",
    "    ).add_to(m)\n",
    "\n",
    "# Guardar el mapa en un archivo HTML\n",
    "m.save('mapa_con_datos.html')"
   ]
  },
  {
   "cell_type": "code",
   "execution_count": null,
   "metadata": {},
   "outputs": [],
   "source": [
    "df = pd.read_csv('../data/raw/P_alcaparrosa.csv')\n",
    "df[[\"UTM X\",\t\"UTM Y\"]].head()"
   ]
  },
  {
   "cell_type": "code",
   "execution_count": null,
   "metadata": {},
   "outputs": [],
   "source": [
    "df = pd.read_csv('../data/raw/P_alcaparrosa.csv')\n",
    "\n",
    "df.columns = ['UTM_X', 'UTM_Y', 'CO2', 'zona']\n",
    "\n",
    "# Definir el sistema UTM (ajusta la zona según tu ubicación)\n",
    "utm_proj = Proj(proj='utm', zone=14, ellps='WGS84')\n",
    "\n",
    "# Convertir coordenadas UTM a Latitud/Longitud\n",
    "df['Latitud'], df['Longitud'] = transform(utm_proj, Proj(init='epsg:4326'), df['UTM_X'], df['UTM_Y'])\n",
    "\n",
    "# Crear el mapa usando las columnas convertidas\n",
    "m = folium.Map(location=[df['Latitud'].mean(), df['Longitud'].mean()], zoom_start=14)\n",
    "\n",
    "# Añadir marcadores usando las nuevas columnas\n",
    "for _, row in df.iterrows():\n",
    "    folium.Marker(\n",
    "        location=[row['Latitud'], row['Longitud']],\n",
    "        popup=f\"Nombre: {row['zona']}<br>CO2: {row['CO2']} gm-2-d-1\",\n",
    "        icon=folium.Icon(color='green')\n",
    "    ).add_to(m)\n",
    "\n",
    "# Mostrar el mapa en el Jupyter Notebook\n",
    "m\n"
   ]
  },
  {
   "cell_type": "markdown",
   "metadata": {},
   "source": [
    "### 2da forma de transformacion y ejecucion"
   ]
  },
  {
   "cell_type": "code",
   "execution_count": null,
   "metadata": {},
   "outputs": [],
   "source": [
    "import pandas as pd\n",
    "import folium\n",
    "from pyproj import Proj, transform\n",
    "\n",
    "# Cargar el archivo CSV\n",
    "# Si tienes el archivo en tu computadora, puedes usar: df = pd.read_csv('ruta_del_archivo.csv')\n",
    "# data = {\n",
    "#     'UTM X': [589948.0000, 589971.1250, 589967.8125, 589974.0000, 589973.3750],\n",
    "#     'UTM Y': [2204938.25, 2204854.75, 2204930.25, 2204849.50, 2204851.50]\n",
    "# }\n",
    "# df = pd.DataFrame(data)\n",
    "df = pd.read_csv('../data/raw/P_alcaparrosa.csv')\n",
    "\n",
    "\n",
    "# Definir el sistema de coordenadas UTM (Zona 16N en este caso, cambia según sea necesario)\n",
    "proj_utm = Proj(proj='utm', zone=14, ellps='WGS84')\n",
    "\n",
    "# Función para convertir coordenadas UTM a latitud/longitud\n",
    "def utm_to_latlon(x, y, proj_utm):\n",
    "    lon, lat = proj_utm(x, y, inverse=True)\n",
    "    return lat, lon\n",
    "\n",
    "# Crear nuevas columnas en el DataFrame para latitud y longitud\n",
    "df['lat'], df['lon'] = zip(*df.apply(lambda row: utm_to_latlon(row['UTM X'], row['UTM Y'], proj_utm), axis=1))\n",
    "\n",
    "# Crear un mapa centrado en el primer punto\n",
    "mapa = folium.Map(location=[df['lat'].mean(), df['lon'].mean()], zoom_start=13)\n",
    "\n",
    "# Añadir puntos al mapa\n",
    "for _, row in df.iterrows():\n",
    "    folium.Marker([row['lat'], row['lon']], popup=f\"({row['UTM X']}, {row['UTM Y']})\").add_to(mapa)\n",
    "\n",
    "# Mostrar el mapa\n",
    "mapa\n"
   ]
  },
  {
   "cell_type": "code",
   "execution_count": null,
   "metadata": {},
   "outputs": [],
   "source": [
    "# Cargar el archivo CSV\n",
    "# Si tienes el archivo en tu computadora, puedes usar: df = pd.read_csv('ruta_del_archivo.csv')\n",
    "# data = {\n",
    "#     'UTM X': [589948.0000, 589971.1250, 589967.8125, 589974.0000, 589973.3750],\n",
    "#     'UTM Y': [2204938.25, 2204854.75, 2204930.25, 2204849.50, 2204851.50]\n",
    "# }\n",
    "# df = pd.DataFrame(data)\n",
    "df = pd.read_csv('../data/raw/P_Escalera.csv')\n",
    "\n",
    "\n",
    "# Definir el sistema de coordenadas UTM (Zona 16N en este caso, cambia según sea necesario)\n",
    "proj_utm = Proj(proj='utm', zone=14, ellps='WGS84')\n",
    "\n",
    "# Función para convertir coordenadas UTM a latitud/longitud\n",
    "def utm_to_latlon(x, y, proj_utm):\n",
    "    lon, lat = proj_utm(x, y, inverse=True)\n",
    "    return lat, lon\n",
    "\n",
    "# Crear nuevas columnas en el DataFrame para latitud y longitud\n",
    "df['lat'], df['lon'] = zip(*df.apply(lambda row: utm_to_latlon(row['UTM X'], row['UTM Y'], proj_utm), axis=1))\n",
    "\n",
    "# Crear un mapa centrado en el primer punto\n",
    "mapa = folium.Map(location=[df['lat'].mean(), df['lon'].mean()], zoom_start=13)\n",
    "\n",
    "# Añadir puntos al mapa\n",
    "for _, row in df.iterrows():\n",
    "    folium.Marker([row['lat'], row['lon']], popup=f\"({row['UTM X']}, {row['UTM Y']})\").add_to(mapa)\n",
    "\n",
    "# Mostrar el mapa\n",
    "mapa\n"
   ]
  },
  {
   "cell_type": "code",
   "execution_count": null,
   "metadata": {},
   "outputs": [],
   "source": [
    "import pandas as pd\n",
    "import geopandas as gpd\n",
    "import folium\n",
    "from shapely.geometry import Point\n",
    "\n",
    "# Cargar el archivo CSV\n",
    "# Si tienes el archivo en tu computadora, puedes usar: df = pd.read_csv('ruta_del_archivo.csv')\n",
    "# data = {\n",
    "#     'UTM X': [589948.0000, 589971.1250, 589967.8125, 589974.0000, 589973.3750],\n",
    "#     'UTM Y': [2204938.25, 2204854.75, 2204930.25, 2204849.50, 2204851.50]\n",
    "# }\n",
    "# df = pd.DataFrame(data)\n",
    "df = pd.read_csv('../data/raw/P_alcaparrosa.csv')\n",
    "\n",
    "\n",
    "# Crear una columna 'geometry' que contiene las coordenadas UTM como puntos\n",
    "gdf = gpd.GeoDataFrame(df, geometry=[Point(x, y) for x, y in zip(df['UTM X'], df['UTM Y'])])\n",
    "\n",
    "# Definir el sistema de referencia espacial (UTM Zona 16N, cambia según tu ubicación)\n",
    "gdf.set_crs(epsg=32616, inplace=True)  # EPSG:32616 es UTM Zona 16N con WGS84\n",
    "\n",
    "# Convertir a coordenadas geográficas (latitud y longitud) - EPSG:4326 es WGS 84\n",
    "gdf = gdf.to_crs(epsg=4326)\n",
    "\n",
    "# Crear un mapa centrado en el primer punto\n",
    "mapa = folium.Map(location=[gdf.geometry.y.mean(), gdf.geometry.x.mean()], zoom_start=13)\n",
    "\n",
    "# Añadir puntos al mapa\n",
    "for _, row in gdf.iterrows():\n",
    "    folium.Marker([row.geometry.y, row.geometry.x], \n",
    "                  popup=f\"({row['UTM X']}, {row['UTM Y']})\").add_to(mapa)\n",
    "\n",
    "# Mostrar el mapa\n",
    "mapa\n"
   ]
  },
  {
   "cell_type": "markdown",
   "metadata": {},
   "source": [
    "### Carga de datos desde Drive"
   ]
  },
  {
   "cell_type": "code",
   "execution_count": null,
   "metadata": {},
   "outputs": [],
   "source": [
    "df = pd.read_csv('https://drive.google.com/file/d/1hVHAtRXZGFWYPAyv5wLkgYIz7v6PbhKk', sep=';', skiprows=[24])\n",
    "\n",
    "df"
   ]
  },
  {
   "cell_type": "markdown",
   "metadata": {},
   "source": [
    "## Carga completa de datos y promedio para mapas"
   ]
  },
  {
   "cell_type": "code",
   "execution_count": 39,
   "metadata": {},
   "outputs": [
    {
     "data": {
      "text/plain": [
       "['P_Acoculco.csv',\n",
       " 'P_alcaparrosa.csv',\n",
       " 'P_Azufres.csv',\n",
       " 'P_Chichinautzin.csv',\n",
       " 'P_Escalera.csv',\n",
       " 'P_Michoa.csv',\n",
       " 'P_Puruandiro.csv']"
      ]
     },
     "execution_count": 39,
     "metadata": {},
     "output_type": "execute_result"
    }
   ],
   "source": [
    "ruta_de_carpeta = \"../data/raw\"\n",
    "\n",
    "archivos_csv = glob.glob(os.path.join(ruta_de_carpeta, \"*.csv\"))\n",
    "\n",
    "# Creamos una lista para almacenar los DataFrames\n",
    "dataframes = {}\n",
    "\n",
    "# Iteramos sobre cada archivo y lo leemos usando pandas\n",
    "for archivo in archivos_csv:\n",
    "    df = pd.read_csv(archivo)\n",
    "    nombre_archivo = archivo.split('\\\\')[-1]\n",
    "    dataframes[nombre_archivo] = df\n",
    "    \n",
    "    \n",
    "list(dataframes.keys())"
   ]
  },
  {
   "cell_type": "markdown",
   "metadata": {},
   "source": [
    "#### Cálculo de valores de media para gráfico de mapas"
   ]
  },
  {
   "cell_type": "code",
   "execution_count": 40,
   "metadata": {},
   "outputs": [],
   "source": [
    "# Conversión de coordenadas \n",
    "def convert(df: pd.DataFrame) -> pd.DataFrame: \n",
    "    # Definir el sistema de coordenadas UTM (Zona 16N en este caso, cambia según sea necesario)\n",
    "    proj_utm = Proj(proj='utm', zone=14, ellps='WGS84')\n",
    "\n",
    "    # Función para convertir coordenadas UTM a latitud/longitud\n",
    "    def utm_to_latlon(x, y, proj_utm):\n",
    "        lon, lat = proj_utm(x, y, inverse=True)\n",
    "        return lat, lon\n",
    "\n",
    "    # Crear nuevas columnas en el DataFrame para latitud y longitud\n",
    "    df['lat'], df['lon'] = zip(*df.apply(lambda row: utm_to_latlon(row['UTM X'], row['UTM Y'], proj_utm), axis=1))\n",
    "    \n",
    "    return df"
   ]
  },
  {
   "cell_type": "code",
   "execution_count": 41,
   "metadata": {},
   "outputs": [
    {
     "data": {
      "text/plain": [
       "{'P_Acoculco.csv': [19.94551763857352, -98.1342090794785],\n",
       " 'P_alcaparrosa.csv': [19.938287335451456, -98.1403903008043],\n",
       " 'P_Azufres.csv': [19.922608931287755, -98.1446972068743],\n",
       " 'P_Chichinautzin.csv': [19.08627758098732, -99.1271971420124],\n",
       " 'P_Escalera.csv': [19.59937443895357, -101.03290674004415],\n",
       " 'P_Michoa.csv': [19.329928048541866, -96.30251214624522],\n",
       " 'P_Puruandiro.csv': [20.088816962773418, -101.49355905556486]}"
      ]
     },
     "execution_count": 41,
     "metadata": {},
     "output_type": "execute_result"
    }
   ],
   "source": [
    "# Iteracíon sobre mapas \n",
    "val_a_graficar = {}\n",
    "\n",
    "for datos_nombre in list(dataframes.keys()):\n",
    "    dataframes[datos_nombre] = convert(dataframes[datos_nombre])\n",
    "    val_a_graficar[datos_nombre] = [dataframes[datos_nombre]['lat'].mean(), dataframes[datos_nombre]['lon'].mean()]\n",
    "    \n",
    "    \n",
    "val_a_graficar\n"
   ]
  },
  {
   "cell_type": "code",
   "execution_count": 30,
   "metadata": {},
   "outputs": [],
   "source": [
    "# Guardar el diccionario en un archivo JSON\n",
    "with open('../data/processed/grafico_nacional.json', 'w') as archivo_json:\n",
    "    json.dump(val_a_graficar, archivo_json)"
   ]
  },
  {
   "cell_type": "code",
   "execution_count": null,
   "metadata": {},
   "outputs": [],
   "source": [
    "with open('../data/processed/grafico_nacional.json', 'r') as archivo_json:\n",
    "        mi_diccionario = json.load(archivo_json)\n",
    "        \n",
    "mi_diccionario"
   ]
  },
  {
   "cell_type": "code",
   "execution_count": null,
   "metadata": {},
   "outputs": [],
   "source": [
    "nombres, lat, lon = [], [], []\n",
    "\n",
    "for key, value in mi_diccionario.items():\n",
    "    nombres.append(key)\n",
    "    lat.append(value[0])\n",
    "    lon.append(value[0])\n",
    "    \n",
    "datos = pd.DataFrame(data={'ubi': nombres, 'lat': lat, 'lon': lon})\n",
    "datos"
   ]
  },
  {
   "cell_type": "code",
   "execution_count": null,
   "metadata": {},
   "outputs": [],
   "source": []
  }
 ],
 "metadata": {
  "kernelspec": {
   "display_name": "base",
   "language": "python",
   "name": "python3"
  },
  "language_info": {
   "codemirror_mode": {
    "name": "ipython",
    "version": 3
   },
   "file_extension": ".py",
   "mimetype": "text/x-python",
   "name": "python",
   "nbconvert_exporter": "python",
   "pygments_lexer": "ipython3",
   "version": "3.9.12"
  }
 },
 "nbformat": 4,
 "nbformat_minor": 2
}
