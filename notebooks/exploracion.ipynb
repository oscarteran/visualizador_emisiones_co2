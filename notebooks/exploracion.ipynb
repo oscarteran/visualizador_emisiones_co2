{
 "cells": [
  {
   "cell_type": "markdown",
   "metadata": {},
   "source": [
    "# Ciencia de datos y visualización de la información para investigación y docencia\n",
    "\n",
    "**Autor:** Oscar Hernández Terán                                   \n",
    "**Fecha:** Octubre 9, 2024"
   ]
  },
  {
   "cell_type": "markdown",
   "metadata": {},
   "source": [
    "## Contenido del Notebook \n",
    "\n",
    "1. Importaciones y librerías\n",
    "2. Carga de datos\n",
    "3. Visualización de datos "
   ]
  },
  {
   "cell_type": "markdown",
   "metadata": {},
   "source": [
    "### 1. Importaciones y librerias "
   ]
  },
  {
   "cell_type": "code",
   "execution_count": 25,
   "metadata": {},
   "outputs": [],
   "source": [
    "# Procesamiento de datos\n",
    "import numpy as np\n",
    "import pandas as pd\n",
    "\n",
    "# Visualización de datos\n",
    "import matplotlib.pyplot as plt\n",
    "import seaborn\n",
    "import folium\n",
    "from pyproj import Proj, transform\n"
   ]
  },
  {
   "cell_type": "markdown",
   "metadata": {},
   "source": [
    "### 2. Carga de datos"
   ]
  },
  {
   "cell_type": "code",
   "execution_count": null,
   "metadata": {},
   "outputs": [],
   "source": [
    "catalogo_datos = pd.read_excel('../data/raw/Catalogo_de_datos_CO2_Jacome_Paz_2020.xlsx')\n",
    "catalogo_datos.head()"
   ]
  },
  {
   "cell_type": "code",
   "execution_count": 24,
   "metadata": {},
   "outputs": [
    {
     "data": {
      "text/html": [
       "<div>\n",
       "<style scoped>\n",
       "    .dataframe tbody tr th:only-of-type {\n",
       "        vertical-align: middle;\n",
       "    }\n",
       "\n",
       "    .dataframe tbody tr th {\n",
       "        vertical-align: top;\n",
       "    }\n",
       "\n",
       "    .dataframe thead th {\n",
       "        text-align: right;\n",
       "    }\n",
       "</style>\n",
       "<table border=\"1\" class=\"dataframe\">\n",
       "  <thead>\n",
       "    <tr style=\"text-align: right;\">\n",
       "      <th></th>\n",
       "      <th>UTM X</th>\n",
       "      <th>UTM Y</th>\n",
       "      <th>CO2 gm-2-d-1</th>\n",
       "      <th>Nombre de la zona</th>\n",
       "    </tr>\n",
       "  </thead>\n",
       "  <tbody>\n",
       "    <tr>\n",
       "      <th>0</th>\n",
       "      <td>589948.0000</td>\n",
       "      <td>2204938.25</td>\n",
       "      <td>11.40</td>\n",
       "      <td>Alcaparrosa</td>\n",
       "    </tr>\n",
       "    <tr>\n",
       "      <th>1</th>\n",
       "      <td>589971.1250</td>\n",
       "      <td>2204854.75</td>\n",
       "      <td>1.27</td>\n",
       "      <td>Alcaparrosa</td>\n",
       "    </tr>\n",
       "    <tr>\n",
       "      <th>2</th>\n",
       "      <td>589967.8125</td>\n",
       "      <td>2204930.25</td>\n",
       "      <td>1.67</td>\n",
       "      <td>Alcaparrosa</td>\n",
       "    </tr>\n",
       "    <tr>\n",
       "      <th>3</th>\n",
       "      <td>589974.0000</td>\n",
       "      <td>2204849.50</td>\n",
       "      <td>4.41</td>\n",
       "      <td>Alcaparrosa</td>\n",
       "    </tr>\n",
       "    <tr>\n",
       "      <th>4</th>\n",
       "      <td>589973.3750</td>\n",
       "      <td>2204851.50</td>\n",
       "      <td>1.91</td>\n",
       "      <td>Alcaparrosa</td>\n",
       "    </tr>\n",
       "  </tbody>\n",
       "</table>\n",
       "</div>"
      ],
      "text/plain": [
       "         UTM X       UTM Y  CO2 gm-2-d-1  Nombre de la zona\n",
       "0  589948.0000  2204938.25          11.40       Alcaparrosa\n",
       "1  589971.1250  2204854.75           1.27       Alcaparrosa\n",
       "2  589967.8125  2204930.25           1.67       Alcaparrosa\n",
       "3  589974.0000  2204849.50           4.41       Alcaparrosa\n",
       "4  589973.3750  2204851.50           1.91       Alcaparrosa"
      ]
     },
     "execution_count": 24,
     "metadata": {},
     "output_type": "execute_result"
    }
   ],
   "source": [
    "df_alcaparrosa = pd.read_csv('../data/raw/P_alcaparrosa.csv')\n",
    "#df_alcaparrosa.columns = ['UTM_X', 'UTM_Y', 'CO2', 'zona']\n",
    "df_alcaparrosa.head()"
   ]
  },
  {
   "cell_type": "markdown",
   "metadata": {},
   "source": [
    "### 3. Visualización de datos "
   ]
  },
  {
   "cell_type": "code",
   "execution_count": null,
   "metadata": {},
   "outputs": [],
   "source": [
    "# Definir el sistema UTM (ajusta la zona según tu ubicación)\n",
    "utm_proj = Proj(proj='utm', zone=14, ellps='WGS84')\n",
    "\n",
    "# Convertir coordenadas UTM a Latitud/Longitud\n",
    "df_alcaparrosa['Latitud'], df_alcaparrosa['Longitud'] = transform(utm_proj, Proj(init='epsg:4326'), df_alcaparrosa['UTM_X'], df_alcaparrosa['UTM_Y'])"
   ]
  },
  {
   "cell_type": "code",
   "execution_count": null,
   "metadata": {},
   "outputs": [],
   "source": [
    "df_alcaparrosa.head()"
   ]
  },
  {
   "cell_type": "code",
   "execution_count": 6,
   "metadata": {},
   "outputs": [],
   "source": [
    "# Crear un mapa centrado en las coordenadas promedio\n",
    "m = folium.Map(location=[df_alcaparrosa['Latitud'].mean(), df_alcaparrosa['Longitud'].mean()], zoom_start=14)\n",
    "\n",
    "# Añadir marcadores para cada fila en el DataFrame\n",
    "for _, row in df_alcaparrosa.iterrows():\n",
    "    folium.Marker(\n",
    "        location=[row['Latitud'], row['Longitud']],\n",
    "        popup=f\"Nombre: {row['zona']}<br>CO2: {row['CO2']} gm-2-d-1\",\n",
    "        icon=folium.Icon(color='green')\n",
    "    ).add_to(m)\n",
    "\n",
    "# Guardar el mapa en un archivo HTML\n",
    "m.save('mapa_con_datos.html')"
   ]
  },
  {
   "cell_type": "code",
   "execution_count": null,
   "metadata": {},
   "outputs": [],
   "source": [
    "df = pd.read_csv('../data/raw/P_alcaparrosa.csv')\n",
    "df[[\"UTM X\",\t\"UTM Y\"]].head()"
   ]
  },
  {
   "cell_type": "code",
   "execution_count": null,
   "metadata": {},
   "outputs": [],
   "source": [
    "df = pd.read_csv('../data/raw/P_alcaparrosa.csv')\n",
    "\n",
    "df.columns = ['UTM_X', 'UTM_Y', 'CO2', 'zona']\n",
    "\n",
    "# Definir el sistema UTM (ajusta la zona según tu ubicación)\n",
    "utm_proj = Proj(proj='utm', zone=14, ellps='WGS84')\n",
    "\n",
    "# Convertir coordenadas UTM a Latitud/Longitud\n",
    "df['Latitud'], df['Longitud'] = transform(utm_proj, Proj(init='epsg:4326'), df['UTM_X'], df['UTM_Y'])\n",
    "\n",
    "# Crear el mapa usando las columnas convertidas\n",
    "m = folium.Map(location=[df['Latitud'].mean(), df['Longitud'].mean()], zoom_start=14)\n",
    "\n",
    "# Añadir marcadores usando las nuevas columnas\n",
    "for _, row in df.iterrows():\n",
    "    folium.Marker(\n",
    "        location=[row['Latitud'], row['Longitud']],\n",
    "        popup=f\"Nombre: {row['zona']}<br>CO2: {row['CO2']} gm-2-d-1\",\n",
    "        icon=folium.Icon(color='green')\n",
    "    ).add_to(m)\n",
    "\n",
    "# Mostrar el mapa en el Jupyter Notebook\n",
    "m\n"
   ]
  },
  {
   "cell_type": "markdown",
   "metadata": {},
   "source": [
    "### 2da forma de transformacion y ejecucion"
   ]
  },
  {
   "cell_type": "code",
   "execution_count": null,
   "metadata": {},
   "outputs": [],
   "source": [
    "import pandas as pd\n",
    "import folium\n",
    "from pyproj import Proj, transform\n",
    "\n",
    "# Cargar el archivo CSV\n",
    "# Si tienes el archivo en tu computadora, puedes usar: df = pd.read_csv('ruta_del_archivo.csv')\n",
    "# data = {\n",
    "#     'UTM X': [589948.0000, 589971.1250, 589967.8125, 589974.0000, 589973.3750],\n",
    "#     'UTM Y': [2204938.25, 2204854.75, 2204930.25, 2204849.50, 2204851.50]\n",
    "# }\n",
    "# df = pd.DataFrame(data)\n",
    "df = pd.read_csv('../data/raw/P_alcaparrosa.csv')\n",
    "\n",
    "\n",
    "# Definir el sistema de coordenadas UTM (Zona 16N en este caso, cambia según sea necesario)\n",
    "proj_utm = Proj(proj='utm', zone=14, ellps='WGS84')\n",
    "\n",
    "# Función para convertir coordenadas UTM a latitud/longitud\n",
    "def utm_to_latlon(x, y, proj_utm):\n",
    "    lon, lat = proj_utm(x, y, inverse=True)\n",
    "    return lat, lon\n",
    "\n",
    "# Crear nuevas columnas en el DataFrame para latitud y longitud\n",
    "df['lat'], df['lon'] = zip(*df.apply(lambda row: utm_to_latlon(row['UTM X'], row['UTM Y'], proj_utm), axis=1))\n",
    "\n",
    "# Crear un mapa centrado en el primer punto\n",
    "mapa = folium.Map(location=[df['lat'].mean(), df['lon'].mean()], zoom_start=13)\n",
    "\n",
    "# Añadir puntos al mapa\n",
    "for _, row in df.iterrows():\n",
    "    folium.Marker([row['lat'], row['lon']], popup=f\"({row['UTM X']}, {row['UTM Y']})\").add_to(mapa)\n",
    "\n",
    "# Mostrar el mapa\n",
    "mapa\n"
   ]
  },
  {
   "cell_type": "code",
   "execution_count": null,
   "metadata": {},
   "outputs": [],
   "source": [
    "# Cargar el archivo CSV\n",
    "# Si tienes el archivo en tu computadora, puedes usar: df = pd.read_csv('ruta_del_archivo.csv')\n",
    "# data = {\n",
    "#     'UTM X': [589948.0000, 589971.1250, 589967.8125, 589974.0000, 589973.3750],\n",
    "#     'UTM Y': [2204938.25, 2204854.75, 2204930.25, 2204849.50, 2204851.50]\n",
    "# }\n",
    "# df = pd.DataFrame(data)\n",
    "df = pd.read_csv('../data/raw/P_Escalera.csv')\n",
    "\n",
    "\n",
    "# Definir el sistema de coordenadas UTM (Zona 16N en este caso, cambia según sea necesario)\n",
    "proj_utm = Proj(proj='utm', zone=14, ellps='WGS84')\n",
    "\n",
    "# Función para convertir coordenadas UTM a latitud/longitud\n",
    "def utm_to_latlon(x, y, proj_utm):\n",
    "    lon, lat = proj_utm(x, y, inverse=True)\n",
    "    return lat, lon\n",
    "\n",
    "# Crear nuevas columnas en el DataFrame para latitud y longitud\n",
    "df['lat'], df['lon'] = zip(*df.apply(lambda row: utm_to_latlon(row['UTM X'], row['UTM Y'], proj_utm), axis=1))\n",
    "\n",
    "# Crear un mapa centrado en el primer punto\n",
    "mapa = folium.Map(location=[df['lat'].mean(), df['lon'].mean()], zoom_start=13)\n",
    "\n",
    "# Añadir puntos al mapa\n",
    "for _, row in df.iterrows():\n",
    "    folium.Marker([row['lat'], row['lon']], popup=f\"({row['UTM X']}, {row['UTM Y']})\").add_to(mapa)\n",
    "\n",
    "# Mostrar el mapa\n",
    "mapa\n"
   ]
  },
  {
   "cell_type": "code",
   "execution_count": null,
   "metadata": {},
   "outputs": [],
   "source": [
    "import pandas as pd\n",
    "import geopandas as gpd\n",
    "import folium\n",
    "from shapely.geometry import Point\n",
    "\n",
    "# Cargar el archivo CSV\n",
    "# Si tienes el archivo en tu computadora, puedes usar: df = pd.read_csv('ruta_del_archivo.csv')\n",
    "# data = {\n",
    "#     'UTM X': [589948.0000, 589971.1250, 589967.8125, 589974.0000, 589973.3750],\n",
    "#     'UTM Y': [2204938.25, 2204854.75, 2204930.25, 2204849.50, 2204851.50]\n",
    "# }\n",
    "# df = pd.DataFrame(data)\n",
    "df = pd.read_csv('../data/raw/P_alcaparrosa.csv')\n",
    "\n",
    "\n",
    "# Crear una columna 'geometry' que contiene las coordenadas UTM como puntos\n",
    "gdf = gpd.GeoDataFrame(df, geometry=[Point(x, y) for x, y in zip(df['UTM X'], df['UTM Y'])])\n",
    "\n",
    "# Definir el sistema de referencia espacial (UTM Zona 16N, cambia según tu ubicación)\n",
    "gdf.set_crs(epsg=32616, inplace=True)  # EPSG:32616 es UTM Zona 16N con WGS84\n",
    "\n",
    "# Convertir a coordenadas geográficas (latitud y longitud) - EPSG:4326 es WGS 84\n",
    "gdf = gdf.to_crs(epsg=4326)\n",
    "\n",
    "# Crear un mapa centrado en el primer punto\n",
    "mapa = folium.Map(location=[gdf.geometry.y.mean(), gdf.geometry.x.mean()], zoom_start=13)\n",
    "\n",
    "# Añadir puntos al mapa\n",
    "for _, row in gdf.iterrows():\n",
    "    folium.Marker([row.geometry.y, row.geometry.x], \n",
    "                  popup=f\"({row['UTM X']}, {row['UTM Y']})\").add_to(mapa)\n",
    "\n",
    "# Mostrar el mapa\n",
    "mapa\n"
   ]
  },
  {
   "cell_type": "markdown",
   "metadata": {},
   "source": [
    "### Carga de datos desde Drive"
   ]
  },
  {
   "cell_type": "code",
   "execution_count": 36,
   "metadata": {},
   "outputs": [
    {
     "ename": "ParserError",
     "evalue": "Error tokenizing data. C error: Expected 23 fields in line 24, saw 25\n",
     "output_type": "error",
     "traceback": [
      "\u001b[0;31m---------------------------------------------------------------------------\u001b[0m",
      "\u001b[0;31mParserError\u001b[0m                               Traceback (most recent call last)",
      "Cell \u001b[0;32mIn[36], line 1\u001b[0m\n\u001b[0;32m----> 1\u001b[0m df \u001b[38;5;241m=\u001b[39m \u001b[43mpd\u001b[49m\u001b[38;5;241;43m.\u001b[39;49m\u001b[43mread_csv\u001b[49m\u001b[43m(\u001b[49m\u001b[38;5;124;43m'\u001b[39;49m\u001b[38;5;124;43mhttps://drive.google.com/file/d/1hVHAtRXZGFWYPAyv5wLkgYIz7v6PbhKk\u001b[39;49m\u001b[38;5;124;43m'\u001b[39;49m\u001b[43m,\u001b[49m\u001b[43m \u001b[49m\u001b[43msep\u001b[49m\u001b[38;5;241;43m=\u001b[39;49m\u001b[38;5;124;43m'\u001b[39;49m\u001b[38;5;124;43m;\u001b[39;49m\u001b[38;5;124;43m'\u001b[39;49m\u001b[43m,\u001b[49m\u001b[43m \u001b[49m\u001b[43mskiprows\u001b[49m\u001b[38;5;241;43m=\u001b[39;49m\u001b[43m[\u001b[49m\u001b[38;5;241;43m24\u001b[39;49m\u001b[43m]\u001b[49m\u001b[43m)\u001b[49m\n\u001b[1;32m      3\u001b[0m df\n",
      "File \u001b[0;32m~/Dropbox/Servicio Social/visualizador_emisiones_co2/.venv/lib/python3.11/site-packages/pandas/io/parsers/readers.py:1026\u001b[0m, in \u001b[0;36mread_csv\u001b[0;34m(filepath_or_buffer, sep, delimiter, header, names, index_col, usecols, dtype, engine, converters, true_values, false_values, skipinitialspace, skiprows, skipfooter, nrows, na_values, keep_default_na, na_filter, verbose, skip_blank_lines, parse_dates, infer_datetime_format, keep_date_col, date_parser, date_format, dayfirst, cache_dates, iterator, chunksize, compression, thousands, decimal, lineterminator, quotechar, quoting, doublequote, escapechar, comment, encoding, encoding_errors, dialect, on_bad_lines, delim_whitespace, low_memory, memory_map, float_precision, storage_options, dtype_backend)\u001b[0m\n\u001b[1;32m   1013\u001b[0m kwds_defaults \u001b[38;5;241m=\u001b[39m _refine_defaults_read(\n\u001b[1;32m   1014\u001b[0m     dialect,\n\u001b[1;32m   1015\u001b[0m     delimiter,\n\u001b[0;32m   (...)\u001b[0m\n\u001b[1;32m   1022\u001b[0m     dtype_backend\u001b[38;5;241m=\u001b[39mdtype_backend,\n\u001b[1;32m   1023\u001b[0m )\n\u001b[1;32m   1024\u001b[0m kwds\u001b[38;5;241m.\u001b[39mupdate(kwds_defaults)\n\u001b[0;32m-> 1026\u001b[0m \u001b[38;5;28;01mreturn\u001b[39;00m \u001b[43m_read\u001b[49m\u001b[43m(\u001b[49m\u001b[43mfilepath_or_buffer\u001b[49m\u001b[43m,\u001b[49m\u001b[43m \u001b[49m\u001b[43mkwds\u001b[49m\u001b[43m)\u001b[49m\n",
      "File \u001b[0;32m~/Dropbox/Servicio Social/visualizador_emisiones_co2/.venv/lib/python3.11/site-packages/pandas/io/parsers/readers.py:626\u001b[0m, in \u001b[0;36m_read\u001b[0;34m(filepath_or_buffer, kwds)\u001b[0m\n\u001b[1;32m    623\u001b[0m     \u001b[38;5;28;01mreturn\u001b[39;00m parser\n\u001b[1;32m    625\u001b[0m \u001b[38;5;28;01mwith\u001b[39;00m parser:\n\u001b[0;32m--> 626\u001b[0m     \u001b[38;5;28;01mreturn\u001b[39;00m \u001b[43mparser\u001b[49m\u001b[38;5;241;43m.\u001b[39;49m\u001b[43mread\u001b[49m\u001b[43m(\u001b[49m\u001b[43mnrows\u001b[49m\u001b[43m)\u001b[49m\n",
      "File \u001b[0;32m~/Dropbox/Servicio Social/visualizador_emisiones_co2/.venv/lib/python3.11/site-packages/pandas/io/parsers/readers.py:1923\u001b[0m, in \u001b[0;36mTextFileReader.read\u001b[0;34m(self, nrows)\u001b[0m\n\u001b[1;32m   1916\u001b[0m nrows \u001b[38;5;241m=\u001b[39m validate_integer(\u001b[38;5;124m\"\u001b[39m\u001b[38;5;124mnrows\u001b[39m\u001b[38;5;124m\"\u001b[39m, nrows)\n\u001b[1;32m   1917\u001b[0m \u001b[38;5;28;01mtry\u001b[39;00m:\n\u001b[1;32m   1918\u001b[0m     \u001b[38;5;66;03m# error: \"ParserBase\" has no attribute \"read\"\u001b[39;00m\n\u001b[1;32m   1919\u001b[0m     (\n\u001b[1;32m   1920\u001b[0m         index,\n\u001b[1;32m   1921\u001b[0m         columns,\n\u001b[1;32m   1922\u001b[0m         col_dict,\n\u001b[0;32m-> 1923\u001b[0m     ) \u001b[38;5;241m=\u001b[39m \u001b[38;5;28;43mself\u001b[39;49m\u001b[38;5;241;43m.\u001b[39;49m\u001b[43m_engine\u001b[49m\u001b[38;5;241;43m.\u001b[39;49m\u001b[43mread\u001b[49m\u001b[43m(\u001b[49m\u001b[43m  \u001b[49m\u001b[38;5;66;43;03m# type: ignore[attr-defined]\u001b[39;49;00m\n\u001b[1;32m   1924\u001b[0m \u001b[43m        \u001b[49m\u001b[43mnrows\u001b[49m\n\u001b[1;32m   1925\u001b[0m \u001b[43m    \u001b[49m\u001b[43m)\u001b[49m\n\u001b[1;32m   1926\u001b[0m \u001b[38;5;28;01mexcept\u001b[39;00m \u001b[38;5;167;01mException\u001b[39;00m:\n\u001b[1;32m   1927\u001b[0m     \u001b[38;5;28mself\u001b[39m\u001b[38;5;241m.\u001b[39mclose()\n",
      "File \u001b[0;32m~/Dropbox/Servicio Social/visualizador_emisiones_co2/.venv/lib/python3.11/site-packages/pandas/io/parsers/c_parser_wrapper.py:234\u001b[0m, in \u001b[0;36mCParserWrapper.read\u001b[0;34m(self, nrows)\u001b[0m\n\u001b[1;32m    232\u001b[0m \u001b[38;5;28;01mtry\u001b[39;00m:\n\u001b[1;32m    233\u001b[0m     \u001b[38;5;28;01mif\u001b[39;00m \u001b[38;5;28mself\u001b[39m\u001b[38;5;241m.\u001b[39mlow_memory:\n\u001b[0;32m--> 234\u001b[0m         chunks \u001b[38;5;241m=\u001b[39m \u001b[38;5;28;43mself\u001b[39;49m\u001b[38;5;241;43m.\u001b[39;49m\u001b[43m_reader\u001b[49m\u001b[38;5;241;43m.\u001b[39;49m\u001b[43mread_low_memory\u001b[49m\u001b[43m(\u001b[49m\u001b[43mnrows\u001b[49m\u001b[43m)\u001b[49m\n\u001b[1;32m    235\u001b[0m         \u001b[38;5;66;03m# destructive to chunks\u001b[39;00m\n\u001b[1;32m    236\u001b[0m         data \u001b[38;5;241m=\u001b[39m _concatenate_chunks(chunks)\n",
      "File \u001b[0;32mparsers.pyx:838\u001b[0m, in \u001b[0;36mpandas._libs.parsers.TextReader.read_low_memory\u001b[0;34m()\u001b[0m\n",
      "File \u001b[0;32mparsers.pyx:905\u001b[0m, in \u001b[0;36mpandas._libs.parsers.TextReader._read_rows\u001b[0;34m()\u001b[0m\n",
      "File \u001b[0;32mparsers.pyx:874\u001b[0m, in \u001b[0;36mpandas._libs.parsers.TextReader._tokenize_rows\u001b[0;34m()\u001b[0m\n",
      "File \u001b[0;32mparsers.pyx:891\u001b[0m, in \u001b[0;36mpandas._libs.parsers.TextReader._check_tokenize_status\u001b[0;34m()\u001b[0m\n",
      "File \u001b[0;32mparsers.pyx:2061\u001b[0m, in \u001b[0;36mpandas._libs.parsers.raise_parser_error\u001b[0;34m()\u001b[0m\n",
      "\u001b[0;31mParserError\u001b[0m: Error tokenizing data. C error: Expected 23 fields in line 24, saw 25\n"
     ]
    }
   ],
   "source": [
    "df = pd.read_csv('https://drive.google.com/file/d/1hVHAtRXZGFWYPAyv5wLkgYIz7v6PbhKk', sep=';', skiprows=[24])\n",
    "\n",
    "df"
   ]
  }
 ],
 "metadata": {
  "kernelspec": {
   "display_name": ".venv",
   "language": "python",
   "name": "python3"
  },
  "language_info": {
   "codemirror_mode": {
    "name": "ipython",
    "version": 3
   },
   "file_extension": ".py",
   "mimetype": "text/x-python",
   "name": "python",
   "nbconvert_exporter": "python",
   "pygments_lexer": "ipython3",
   "version": "3.11.9"
  }
 },
 "nbformat": 4,
 "nbformat_minor": 2
}
